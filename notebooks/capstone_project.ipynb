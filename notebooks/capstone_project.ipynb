{
  "cells": [
    {
      "cell_type": "markdown",
      "metadata": {
        "colab_type": "text",
        "id": "view-in-github"
      },
      "source": [
        "<a href=\"https://colab.research.google.com/github/aronbarbosag/data-analysis-python/blob/main/capstone_project.ipynb\" target=\"_parent\"><img src=\"https://colab.research.google.com/assets/colab-badge.svg\" alt=\"Open In Colab\"/></a>"
      ]
    },
    {
      "cell_type": "code",
      "execution_count": null,
      "metadata": {
        "id": "b79M4m_WVkJy"
      },
      "outputs": [],
      "source": []
    },
    {
      "cell_type": "markdown",
      "metadata": {
        "id": "PD_sP5lrVvYD"
      },
      "source": [
        "#### Pergunta para responder:\n",
        "##Há um conflito de interesse para um site que  vende ingressos para um filme e exibe avaliaçoes sobre o filme ?"
      ]
    },
    {
      "cell_type": "code",
      "execution_count": 1,
      "metadata": {
        "id": "nVLn6Nu9VnVA"
      },
      "outputs": [],
      "source": [
        "import pandas as pd\n",
        "import numpy as np\n",
        "import matplotlib.pyplot as plt\n",
        "import seaborn as sns"
      ]
    },
    {
      "cell_type": "markdown",
      "metadata": {
        "id": "fEhDaduVYWkL"
      },
      "source": []
    },
    {
      "cell_type": "code",
      "execution_count": 2,
      "metadata": {
        "id": "XbnNbLhdYXLQ"
      },
      "outputs": [],
      "source": [
        "fandango_df = pd.read_csv('../data/fandango_scrape.csv')"
      ]
    },
    {
      "cell_type": "code",
      "execution_count": 3,
      "metadata": {
        "id": "qbUNQDYiY_2u"
      },
      "outputs": [],
      "source": [
        "all_sites_df = pd.read_csv('../data/all_sites_scores.csv')"
      ]
    },
    {
      "cell_type": "code",
      "execution_count": 4,
      "metadata": {
        "colab": {
          "base_uri": "https://localhost:8080/",
          "height": 206
        },
        "id": "f_kcCD4MY7eq",
        "outputId": "de3a87e2-dbe2-44e7-dd44-b602ff00fb1d"
      },
      "outputs": [
        {
          "data": {
            "text/html": [
              "<div>\n",
              "<style scoped>\n",
              "    .dataframe tbody tr th:only-of-type {\n",
              "        vertical-align: middle;\n",
              "    }\n",
              "\n",
              "    .dataframe tbody tr th {\n",
              "        vertical-align: top;\n",
              "    }\n",
              "\n",
              "    .dataframe thead th {\n",
              "        text-align: right;\n",
              "    }\n",
              "</style>\n",
              "<table border=\"1\" class=\"dataframe\">\n",
              "  <thead>\n",
              "    <tr style=\"text-align: right;\">\n",
              "      <th></th>\n",
              "      <th>FILM</th>\n",
              "      <th>STARS</th>\n",
              "      <th>RATING</th>\n",
              "      <th>VOTES</th>\n",
              "    </tr>\n",
              "  </thead>\n",
              "  <tbody>\n",
              "    <tr>\n",
              "      <th>0</th>\n",
              "      <td>Fifty Shades of Grey (2015)</td>\n",
              "      <td>4.0</td>\n",
              "      <td>3.9</td>\n",
              "      <td>34846</td>\n",
              "    </tr>\n",
              "    <tr>\n",
              "      <th>1</th>\n",
              "      <td>Jurassic World (2015)</td>\n",
              "      <td>4.5</td>\n",
              "      <td>4.5</td>\n",
              "      <td>34390</td>\n",
              "    </tr>\n",
              "    <tr>\n",
              "      <th>2</th>\n",
              "      <td>American Sniper (2015)</td>\n",
              "      <td>5.0</td>\n",
              "      <td>4.8</td>\n",
              "      <td>34085</td>\n",
              "    </tr>\n",
              "    <tr>\n",
              "      <th>3</th>\n",
              "      <td>Furious 7 (2015)</td>\n",
              "      <td>5.0</td>\n",
              "      <td>4.8</td>\n",
              "      <td>33538</td>\n",
              "    </tr>\n",
              "    <tr>\n",
              "      <th>4</th>\n",
              "      <td>Inside Out (2015)</td>\n",
              "      <td>4.5</td>\n",
              "      <td>4.5</td>\n",
              "      <td>15749</td>\n",
              "    </tr>\n",
              "  </tbody>\n",
              "</table>\n",
              "</div>"
            ],
            "text/plain": [
              "                          FILM  STARS  RATING  VOTES\n",
              "0  Fifty Shades of Grey (2015)    4.0     3.9  34846\n",
              "1        Jurassic World (2015)    4.5     4.5  34390\n",
              "2       American Sniper (2015)    5.0     4.8  34085\n",
              "3             Furious 7 (2015)    5.0     4.8  33538\n",
              "4            Inside Out (2015)    4.5     4.5  15749"
            ]
          },
          "execution_count": 4,
          "metadata": {},
          "output_type": "execute_result"
        }
      ],
      "source": [
        "fandango_df.head()"
      ]
    },
    {
      "cell_type": "code",
      "execution_count": 5,
      "metadata": {
        "colab": {
          "base_uri": "https://localhost:8080/"
        },
        "id": "m7MF30HQ3RY9",
        "outputId": "03b862d4-d646-43a8-ef0d-f91ad98bf242"
      },
      "outputs": [
        {
          "name": "stdout",
          "output_type": "stream",
          "text": [
            "<class 'pandas.core.frame.DataFrame'>\n",
            "RangeIndex: 504 entries, 0 to 503\n",
            "Data columns (total 4 columns):\n",
            " #   Column  Non-Null Count  Dtype  \n",
            "---  ------  --------------  -----  \n",
            " 0   FILM    504 non-null    object \n",
            " 1   STARS   504 non-null    float64\n",
            " 2   RATING  504 non-null    float64\n",
            " 3   VOTES   504 non-null    int64  \n",
            "dtypes: float64(2), int64(1), object(1)\n",
            "memory usage: 15.9+ KB\n"
          ]
        }
      ],
      "source": [
        "fandango_df.info()"
      ]
    },
    {
      "cell_type": "code",
      "execution_count": 6,
      "metadata": {
        "colab": {
          "base_uri": "https://localhost:8080/",
          "height": 300
        },
        "id": "vVr6FTdO3bw1",
        "outputId": "a02b1d48-9b54-4804-a620-7f67218ce0a2"
      },
      "outputs": [
        {
          "data": {
            "text/html": [
              "<div>\n",
              "<style scoped>\n",
              "    .dataframe tbody tr th:only-of-type {\n",
              "        vertical-align: middle;\n",
              "    }\n",
              "\n",
              "    .dataframe tbody tr th {\n",
              "        vertical-align: top;\n",
              "    }\n",
              "\n",
              "    .dataframe thead th {\n",
              "        text-align: right;\n",
              "    }\n",
              "</style>\n",
              "<table border=\"1\" class=\"dataframe\">\n",
              "  <thead>\n",
              "    <tr style=\"text-align: right;\">\n",
              "      <th></th>\n",
              "      <th>STARS</th>\n",
              "      <th>RATING</th>\n",
              "      <th>VOTES</th>\n",
              "    </tr>\n",
              "  </thead>\n",
              "  <tbody>\n",
              "    <tr>\n",
              "      <th>count</th>\n",
              "      <td>504.000000</td>\n",
              "      <td>504.000000</td>\n",
              "      <td>504.000000</td>\n",
              "    </tr>\n",
              "    <tr>\n",
              "      <th>mean</th>\n",
              "      <td>3.558532</td>\n",
              "      <td>3.375794</td>\n",
              "      <td>1147.863095</td>\n",
              "    </tr>\n",
              "    <tr>\n",
              "      <th>std</th>\n",
              "      <td>1.563133</td>\n",
              "      <td>1.491223</td>\n",
              "      <td>3830.583136</td>\n",
              "    </tr>\n",
              "    <tr>\n",
              "      <th>min</th>\n",
              "      <td>0.000000</td>\n",
              "      <td>0.000000</td>\n",
              "      <td>0.000000</td>\n",
              "    </tr>\n",
              "    <tr>\n",
              "      <th>25%</th>\n",
              "      <td>3.500000</td>\n",
              "      <td>3.100000</td>\n",
              "      <td>3.000000</td>\n",
              "    </tr>\n",
              "    <tr>\n",
              "      <th>50%</th>\n",
              "      <td>4.000000</td>\n",
              "      <td>3.800000</td>\n",
              "      <td>18.500000</td>\n",
              "    </tr>\n",
              "    <tr>\n",
              "      <th>75%</th>\n",
              "      <td>4.500000</td>\n",
              "      <td>4.300000</td>\n",
              "      <td>189.750000</td>\n",
              "    </tr>\n",
              "    <tr>\n",
              "      <th>max</th>\n",
              "      <td>5.000000</td>\n",
              "      <td>5.000000</td>\n",
              "      <td>34846.000000</td>\n",
              "    </tr>\n",
              "  </tbody>\n",
              "</table>\n",
              "</div>"
            ],
            "text/plain": [
              "            STARS      RATING         VOTES\n",
              "count  504.000000  504.000000    504.000000\n",
              "mean     3.558532    3.375794   1147.863095\n",
              "std      1.563133    1.491223   3830.583136\n",
              "min      0.000000    0.000000      0.000000\n",
              "25%      3.500000    3.100000      3.000000\n",
              "50%      4.000000    3.800000     18.500000\n",
              "75%      4.500000    4.300000    189.750000\n",
              "max      5.000000    5.000000  34846.000000"
            ]
          },
          "execution_count": 6,
          "metadata": {},
          "output_type": "execute_result"
        }
      ],
      "source": [
        "fandango_df.describe()"
      ]
    },
    {
      "cell_type": "markdown",
      "metadata": {
        "id": "PvmfNM024V_n"
      },
      "source": [
        "## Q1- Alguma relação entre popularidade e as avaliações ?"
      ]
    },
    {
      "cell_type": "code",
      "execution_count": 7,
      "metadata": {
        "colab": {
          "base_uri": "https://localhost:8080/",
          "height": 466
        },
        "id": "b6GIqUp033fT",
        "outputId": "ef1dfe3f-edc8-42e3-d1ba-929784bca1ea"
      },
      "outputs": [
        {
          "data": {
            "image/png": "[encoded data removed]",
            "text/plain": [
              "<Figure size 640x480 with 1 Axes>"
            ]
          },
          "metadata": {},
          "output_type": "display_data"
        }
      ],
      "source": [
        "sns.scatterplot(data=fandango_df,x='VOTES',y='RATING')\n",
        "plt.show()"
      ]
    },
    {
      "cell_type": "markdown",
      "metadata": {
        "id": "51XvWxII4jLe"
      },
      "source": [
        "Resposta Q1: Aparentemente não existe relação, pelo menos não linearmente."
      ]
    },
    {
      "cell_type": "code",
      "execution_count": 8,
      "metadata": {
        "colab": {
          "base_uri": "https://localhost:8080/",
          "height": 143
        },
        "id": "QnjCLbIO49lW",
        "outputId": "0ed9ecc5-be24-42f6-ba25-e5d8d9bf9f0c"
      },
      "outputs": [
        {
          "data": {
            "text/html": [
              "<div>\n",
              "<style scoped>\n",
              "    .dataframe tbody tr th:only-of-type {\n",
              "        vertical-align: middle;\n",
              "    }\n",
              "\n",
              "    .dataframe tbody tr th {\n",
              "        vertical-align: top;\n",
              "    }\n",
              "\n",
              "    .dataframe thead th {\n",
              "        text-align: right;\n",
              "    }\n",
              "</style>\n",
              "<table border=\"1\" class=\"dataframe\">\n",
              "  <thead>\n",
              "    <tr style=\"text-align: right;\">\n",
              "      <th></th>\n",
              "      <th>STARS</th>\n",
              "      <th>RATING</th>\n",
              "      <th>VOTES</th>\n",
              "    </tr>\n",
              "  </thead>\n",
              "  <tbody>\n",
              "    <tr>\n",
              "      <th>STARS</th>\n",
              "      <td>1.000000</td>\n",
              "      <td>0.994696</td>\n",
              "      <td>0.164218</td>\n",
              "    </tr>\n",
              "    <tr>\n",
              "      <th>RATING</th>\n",
              "      <td>0.994696</td>\n",
              "      <td>1.000000</td>\n",
              "      <td>0.163764</td>\n",
              "    </tr>\n",
              "    <tr>\n",
              "      <th>VOTES</th>\n",
              "      <td>0.164218</td>\n",
              "      <td>0.163764</td>\n",
              "      <td>1.000000</td>\n",
              "    </tr>\n",
              "  </tbody>\n",
              "</table>\n",
              "</div>"
            ],
            "text/plain": [
              "           STARS    RATING     VOTES\n",
              "STARS   1.000000  0.994696  0.164218\n",
              "RATING  0.994696  1.000000  0.163764\n",
              "VOTES   0.164218  0.163764  1.000000"
            ]
          },
          "execution_count": 8,
          "metadata": {},
          "output_type": "execute_result"
        }
      ],
      "source": [
        "fandango_df.select_dtypes('number').corr()"
      ]
    },
    {
      "cell_type": "code",
      "execution_count": 9,
      "metadata": {
        "id": "2G9peC3q6o9n"
      },
      "outputs": [],
      "source": [
        "import re"
      ]
    },
    {
      "cell_type": "markdown",
      "metadata": {
        "id": "3tA9BXwH8Ou5"
      },
      "source": [
        "## Extrair o ano do titulo do filme e criar uma coluna\n",
        "#### Ex: Ant-Man (2015)\t ---> Coluna Year com valor 2015"
      ]
    },
    {
      "cell_type": "code",
      "execution_count": null,
      "metadata": {
        "id": "Z_6FONud6rFe"
      },
      "outputs": [],
      "source": []
    },
    {
      "cell_type": "code",
      "execution_count": 10,
      "metadata": {
        "id": "jEZWAzvN6CDU"
      },
      "outputs": [],
      "source": [
        "def strip_year(col:str):\n",
        "  year =(re.search(r'[0-9]{4}',col)).group()\n",
        "  return int(year)"
      ]
    },
    {
      "cell_type": "code",
      "execution_count": 11,
      "metadata": {
        "id": "wRrwmvzY8zlb"
      },
      "outputs": [],
      "source": [
        "fandango_df['YEAR']=fandango_df['FILM'].apply(strip_year)"
      ]
    },
    {
      "cell_type": "code",
      "execution_count": 12,
      "metadata": {
        "colab": {
          "base_uri": "https://localhost:8080/",
          "height": 206
        },
        "id": "9W1SxOTy9VXe",
        "outputId": "a5c5937e-9688-4c08-bc21-9d3f519bf6d7"
      },
      "outputs": [
        {
          "data": {
            "text/html": [
              "<div>\n",
              "<style scoped>\n",
              "    .dataframe tbody tr th:only-of-type {\n",
              "        vertical-align: middle;\n",
              "    }\n",
              "\n",
              "    .dataframe tbody tr th {\n",
              "        vertical-align: top;\n",
              "    }\n",
              "\n",
              "    .dataframe thead th {\n",
              "        text-align: right;\n",
              "    }\n",
              "</style>\n",
              "<table border=\"1\" class=\"dataframe\">\n",
              "  <thead>\n",
              "    <tr style=\"text-align: right;\">\n",
              "      <th></th>\n",
              "      <th>FILM</th>\n",
              "      <th>STARS</th>\n",
              "      <th>RATING</th>\n",
              "      <th>VOTES</th>\n",
              "      <th>YEAR</th>\n",
              "    </tr>\n",
              "  </thead>\n",
              "  <tbody>\n",
              "    <tr>\n",
              "      <th>0</th>\n",
              "      <td>Fifty Shades of Grey (2015)</td>\n",
              "      <td>4.0</td>\n",
              "      <td>3.9</td>\n",
              "      <td>34846</td>\n",
              "      <td>2015</td>\n",
              "    </tr>\n",
              "    <tr>\n",
              "      <th>1</th>\n",
              "      <td>Jurassic World (2015)</td>\n",
              "      <td>4.5</td>\n",
              "      <td>4.5</td>\n",
              "      <td>34390</td>\n",
              "      <td>2015</td>\n",
              "    </tr>\n",
              "    <tr>\n",
              "      <th>2</th>\n",
              "      <td>American Sniper (2015)</td>\n",
              "      <td>5.0</td>\n",
              "      <td>4.8</td>\n",
              "      <td>34085</td>\n",
              "      <td>2015</td>\n",
              "    </tr>\n",
              "    <tr>\n",
              "      <th>3</th>\n",
              "      <td>Furious 7 (2015)</td>\n",
              "      <td>5.0</td>\n",
              "      <td>4.8</td>\n",
              "      <td>33538</td>\n",
              "      <td>2015</td>\n",
              "    </tr>\n",
              "    <tr>\n",
              "      <th>4</th>\n",
              "      <td>Inside Out (2015)</td>\n",
              "      <td>4.5</td>\n",
              "      <td>4.5</td>\n",
              "      <td>15749</td>\n",
              "      <td>2015</td>\n",
              "    </tr>\n",
              "  </tbody>\n",
              "</table>\n",
              "</div>"
            ],
            "text/plain": [
              "                          FILM  STARS  RATING  VOTES  YEAR\n",
              "0  Fifty Shades of Grey (2015)    4.0     3.9  34846  2015\n",
              "1        Jurassic World (2015)    4.5     4.5  34390  2015\n",
              "2       American Sniper (2015)    5.0     4.8  34085  2015\n",
              "3             Furious 7 (2015)    5.0     4.8  33538  2015\n",
              "4            Inside Out (2015)    4.5     4.5  15749  2015"
            ]
          },
          "execution_count": 12,
          "metadata": {},
          "output_type": "execute_result"
        }
      ],
      "source": [
        "fandango_df.head()"
      ]
    },
    {
      "cell_type": "markdown",
      "metadata": {
        "id": "IfpLY5IgMqL7"
      },
      "source": [
        "#### Q2 Quantos filmes existem no Fandango DataFrame por ano ?"
      ]
    },
    {
      "cell_type": "code",
      "execution_count": 13,
      "metadata": {
        "colab": {
          "base_uri": "https://localhost:8080/",
          "height": 81
        },
        "id": "DtVuaEbANFTm",
        "outputId": "58fa920a-52c9-4d89-e4bf-7674ad74cd71"
      },
      "outputs": [
        {
          "data": {
            "text/html": [
              "<div>\n",
              "<style scoped>\n",
              "    .dataframe tbody tr th:only-of-type {\n",
              "        vertical-align: middle;\n",
              "    }\n",
              "\n",
              "    .dataframe tbody tr th {\n",
              "        vertical-align: top;\n",
              "    }\n",
              "\n",
              "    .dataframe thead th {\n",
              "        text-align: right;\n",
              "    }\n",
              "</style>\n",
              "<table border=\"1\" class=\"dataframe\">\n",
              "  <thead>\n",
              "    <tr style=\"text-align: right;\">\n",
              "      <th></th>\n",
              "      <th>FILM</th>\n",
              "      <th>STARS</th>\n",
              "      <th>RATING</th>\n",
              "      <th>VOTES</th>\n",
              "      <th>YEAR</th>\n",
              "    </tr>\n",
              "  </thead>\n",
              "  <tbody>\n",
              "    <tr>\n",
              "      <th>385</th>\n",
              "      <td>1001 Grams (2015)</td>\n",
              "      <td>3.0</td>\n",
              "      <td>3.0</td>\n",
              "      <td>2</td>\n",
              "      <td>1001</td>\n",
              "    </tr>\n",
              "  </tbody>\n",
              "</table>\n",
              "</div>"
            ],
            "text/plain": [
              "                  FILM  STARS  RATING  VOTES  YEAR\n",
              "385  1001 Grams (2015)    3.0     3.0      2  1001"
            ]
          },
          "execution_count": 13,
          "metadata": {},
          "output_type": "execute_result"
        }
      ],
      "source": [
        "fandango_df[fandango_df['YEAR']== 1001]"
      ]
    },
    {
      "cell_type": "code",
      "execution_count": 14,
      "metadata": {
        "id": "PaQC1ga-Nj1L"
      },
      "outputs": [],
      "source": [
        "fandango_df.loc[fandango_df['YEAR']== 1001,'YEAR'] = 2015"
      ]
    },
    {
      "cell_type": "code",
      "execution_count": 15,
      "metadata": {
        "colab": {
          "base_uri": "https://localhost:8080/",
          "height": 241
        },
        "id": "zPYi8ZqdObcV",
        "outputId": "710185e9-5d4a-4496-8783-7525e46979cb"
      },
      "outputs": [
        {
          "data": {
            "text/plain": [
              "FILM      1001 Grams (2015)\n",
              "STARS                   3.0\n",
              "RATING                  3.0\n",
              "VOTES                     2\n",
              "YEAR                   2015\n",
              "Name: 385, dtype: object"
            ]
          },
          "execution_count": 15,
          "metadata": {},
          "output_type": "execute_result"
        }
      ],
      "source": [
        "fandango_df.iloc[385]"
      ]
    },
    {
      "cell_type": "code",
      "execution_count": 16,
      "metadata": {
        "colab": {
          "base_uri": "https://localhost:8080/",
          "height": 81
        },
        "id": "19MAKmd9OmzO",
        "outputId": "fa2832d8-870c-40dc-a39a-500802c6bb3c"
      },
      "outputs": [
        {
          "data": {
            "text/html": [
              "<div>\n",
              "<style scoped>\n",
              "    .dataframe tbody tr th:only-of-type {\n",
              "        vertical-align: middle;\n",
              "    }\n",
              "\n",
              "    .dataframe tbody tr th {\n",
              "        vertical-align: top;\n",
              "    }\n",
              "\n",
              "    .dataframe thead th {\n",
              "        text-align: right;\n",
              "    }\n",
              "</style>\n",
              "<table border=\"1\" class=\"dataframe\">\n",
              "  <thead>\n",
              "    <tr style=\"text-align: right;\">\n",
              "      <th></th>\n",
              "      <th>FILM</th>\n",
              "      <th>STARS</th>\n",
              "      <th>RATING</th>\n",
              "      <th>VOTES</th>\n",
              "      <th>YEAR</th>\n",
              "    </tr>\n",
              "  </thead>\n",
              "  <tbody>\n",
              "    <tr>\n",
              "      <th>502</th>\n",
              "      <td>Yesterday, Today and Tomorrow (1964)</td>\n",
              "      <td>0.0</td>\n",
              "      <td>0.0</td>\n",
              "      <td>0</td>\n",
              "      <td>1964</td>\n",
              "    </tr>\n",
              "  </tbody>\n",
              "</table>\n",
              "</div>"
            ],
            "text/plain": [
              "                                     FILM  STARS  RATING  VOTES  YEAR\n",
              "502  Yesterday, Today and Tomorrow (1964)    0.0     0.0      0  1964"
            ]
          },
          "execution_count": 16,
          "metadata": {},
          "output_type": "execute_result"
        }
      ],
      "source": [
        "fandango_df[fandango_df['YEAR']== 1964]"
      ]
    },
    {
      "cell_type": "code",
      "execution_count": 17,
      "metadata": {
        "colab": {
          "base_uri": "https://localhost:8080/",
          "height": 802
        },
        "id": "vY9icJGyPA_w",
        "outputId": "ef7557cd-d09e-4170-dbbe-3b75273d5d46"
      },
      "outputs": [
        {
          "data": {
            "text/html": [
              "<div>\n",
              "<style scoped>\n",
              "    .dataframe tbody tr th:only-of-type {\n",
              "        vertical-align: middle;\n",
              "    }\n",
              "\n",
              "    .dataframe tbody tr th {\n",
              "        vertical-align: top;\n",
              "    }\n",
              "\n",
              "    .dataframe thead th {\n",
              "        text-align: right;\n",
              "    }\n",
              "</style>\n",
              "<table border=\"1\" class=\"dataframe\">\n",
              "  <thead>\n",
              "    <tr style=\"text-align: right;\">\n",
              "      <th></th>\n",
              "      <th>FILM</th>\n",
              "      <th>STARS</th>\n",
              "      <th>RATING</th>\n",
              "      <th>VOTES</th>\n",
              "      <th>YEAR</th>\n",
              "    </tr>\n",
              "  </thead>\n",
              "  <tbody>\n",
              "    <tr>\n",
              "      <th>5</th>\n",
              "      <td>The Hobbit: The Battle of the Five Armies (2014)</td>\n",
              "      <td>4.5</td>\n",
              "      <td>4.3</td>\n",
              "      <td>15337</td>\n",
              "      <td>2014</td>\n",
              "    </tr>\n",
              "    <tr>\n",
              "      <th>9</th>\n",
              "      <td>Into the Woods (2014)</td>\n",
              "      <td>3.5</td>\n",
              "      <td>3.4</td>\n",
              "      <td>13055</td>\n",
              "      <td>2014</td>\n",
              "    </tr>\n",
              "    <tr>\n",
              "      <th>14</th>\n",
              "      <td>Unbroken (2014)</td>\n",
              "      <td>4.5</td>\n",
              "      <td>4.1</td>\n",
              "      <td>9443</td>\n",
              "      <td>2014</td>\n",
              "    </tr>\n",
              "    <tr>\n",
              "      <th>21</th>\n",
              "      <td>The Imitation Game (2014)</td>\n",
              "      <td>5.0</td>\n",
              "      <td>4.6</td>\n",
              "      <td>8055</td>\n",
              "      <td>2014</td>\n",
              "    </tr>\n",
              "    <tr>\n",
              "      <th>24</th>\n",
              "      <td>Selma (2014)</td>\n",
              "      <td>5.0</td>\n",
              "      <td>4.6</td>\n",
              "      <td>7025</td>\n",
              "      <td>2014</td>\n",
              "    </tr>\n",
              "    <tr>\n",
              "      <th>25</th>\n",
              "      <td>Annie (2014)</td>\n",
              "      <td>4.5</td>\n",
              "      <td>4.2</td>\n",
              "      <td>6835</td>\n",
              "      <td>2014</td>\n",
              "    </tr>\n",
              "    <tr>\n",
              "      <th>33</th>\n",
              "      <td>Night at the Museum: Secret of the Tomb (2014)</td>\n",
              "      <td>4.5</td>\n",
              "      <td>4.1</td>\n",
              "      <td>5445</td>\n",
              "      <td>2014</td>\n",
              "    </tr>\n",
              "    <tr>\n",
              "      <th>38</th>\n",
              "      <td>Birdman (2014)</td>\n",
              "      <td>4.0</td>\n",
              "      <td>3.7</td>\n",
              "      <td>4194</td>\n",
              "      <td>2014</td>\n",
              "    </tr>\n",
              "    <tr>\n",
              "      <th>50</th>\n",
              "      <td>Top Five (2014)</td>\n",
              "      <td>4.0</td>\n",
              "      <td>3.5</td>\n",
              "      <td>3223</td>\n",
              "      <td>2014</td>\n",
              "    </tr>\n",
              "    <tr>\n",
              "      <th>73</th>\n",
              "      <td>Big Eyes (2014)</td>\n",
              "      <td>4.0</td>\n",
              "      <td>3.8</td>\n",
              "      <td>1501</td>\n",
              "      <td>2014</td>\n",
              "    </tr>\n",
              "    <tr>\n",
              "      <th>83</th>\n",
              "      <td>Inherent Vice (2014)</td>\n",
              "      <td>3.0</td>\n",
              "      <td>2.9</td>\n",
              "      <td>1078</td>\n",
              "      <td>2014</td>\n",
              "    </tr>\n",
              "    <tr>\n",
              "      <th>98</th>\n",
              "      <td>A Most Violent Year (2014)</td>\n",
              "      <td>3.5</td>\n",
              "      <td>3.4</td>\n",
              "      <td>675</td>\n",
              "      <td>2014</td>\n",
              "    </tr>\n",
              "    <tr>\n",
              "      <th>114</th>\n",
              "      <td>Mr. Turner (2014)</td>\n",
              "      <td>3.5</td>\n",
              "      <td>3.2</td>\n",
              "      <td>290</td>\n",
              "      <td>2014</td>\n",
              "    </tr>\n",
              "    <tr>\n",
              "      <th>119</th>\n",
              "      <td>Wild Tales (2014)</td>\n",
              "      <td>4.5</td>\n",
              "      <td>4.1</td>\n",
              "      <td>235</td>\n",
              "      <td>2014</td>\n",
              "    </tr>\n",
              "    <tr>\n",
              "      <th>136</th>\n",
              "      <td>Two Days, One Night (2014)</td>\n",
              "      <td>3.5</td>\n",
              "      <td>3.5</td>\n",
              "      <td>118</td>\n",
              "      <td>2014</td>\n",
              "    </tr>\n",
              "    <tr>\n",
              "      <th>145</th>\n",
              "      <td>Ode to My Father (2014)</td>\n",
              "      <td>5.0</td>\n",
              "      <td>4.6</td>\n",
              "      <td>83</td>\n",
              "      <td>2014</td>\n",
              "    </tr>\n",
              "    <tr>\n",
              "      <th>155</th>\n",
              "      <td>Bolshoi Ballet: The Nutcracker (2014)</td>\n",
              "      <td>4.5</td>\n",
              "      <td>4.4</td>\n",
              "      <td>70</td>\n",
              "      <td>2014</td>\n",
              "    </tr>\n",
              "    <tr>\n",
              "      <th>158</th>\n",
              "      <td>Song of the Sea (2014)</td>\n",
              "      <td>4.5</td>\n",
              "      <td>4.3</td>\n",
              "      <td>66</td>\n",
              "      <td>2014</td>\n",
              "    </tr>\n",
              "    <tr>\n",
              "      <th>161</th>\n",
              "      <td>Leviathan (2014)</td>\n",
              "      <td>4.0</td>\n",
              "      <td>3.5</td>\n",
              "      <td>64</td>\n",
              "      <td>2014</td>\n",
              "    </tr>\n",
              "    <tr>\n",
              "      <th>196</th>\n",
              "      <td>Merchants of Doubt (2014)</td>\n",
              "      <td>4.0</td>\n",
              "      <td>3.7</td>\n",
              "      <td>42</td>\n",
              "      <td>2014</td>\n",
              "    </tr>\n",
              "    <tr>\n",
              "      <th>212</th>\n",
              "      <td>Just the Way You Are (2014) (2015)</td>\n",
              "      <td>5.0</td>\n",
              "      <td>4.8</td>\n",
              "      <td>29</td>\n",
              "      <td>2014</td>\n",
              "    </tr>\n",
              "    <tr>\n",
              "      <th>319</th>\n",
              "      <td>Beloved Sisters (2014)</td>\n",
              "      <td>3.5</td>\n",
              "      <td>3.3</td>\n",
              "      <td>7</td>\n",
              "      <td>2014</td>\n",
              "    </tr>\n",
              "    <tr>\n",
              "      <th>321</th>\n",
              "      <td>Six Dance Lessons in Six Weeks (2014)</td>\n",
              "      <td>3.0</td>\n",
              "      <td>3.0</td>\n",
              "      <td>7</td>\n",
              "      <td>2014</td>\n",
              "    </tr>\n",
              "    <tr>\n",
              "      <th>345</th>\n",
              "      <td>Magician: The Astonishing Life and Work of Ors...</td>\n",
              "      <td>4.0</td>\n",
              "      <td>4.0</td>\n",
              "      <td>5</td>\n",
              "      <td>2014</td>\n",
              "    </tr>\n",
              "  </tbody>\n",
              "</table>\n",
              "</div>"
            ],
            "text/plain": [
              "                                                  FILM  STARS  RATING  VOTES  \\\n",
              "5     The Hobbit: The Battle of the Five Armies (2014)    4.5     4.3  15337   \n",
              "9                                Into the Woods (2014)    3.5     3.4  13055   \n",
              "14                                     Unbroken (2014)    4.5     4.1   9443   \n",
              "21                           The Imitation Game (2014)    5.0     4.6   8055   \n",
              "24                                        Selma (2014)    5.0     4.6   7025   \n",
              "25                                        Annie (2014)    4.5     4.2   6835   \n",
              "33      Night at the Museum: Secret of the Tomb (2014)    4.5     4.1   5445   \n",
              "38                                      Birdman (2014)    4.0     3.7   4194   \n",
              "50                                     Top Five (2014)    4.0     3.5   3223   \n",
              "73                                     Big Eyes (2014)    4.0     3.8   1501   \n",
              "83                                Inherent Vice (2014)    3.0     2.9   1078   \n",
              "98                          A Most Violent Year (2014)    3.5     3.4    675   \n",
              "114                                  Mr. Turner (2014)    3.5     3.2    290   \n",
              "119                                  Wild Tales (2014)    4.5     4.1    235   \n",
              "136                         Two Days, One Night (2014)    3.5     3.5    118   \n",
              "145                            Ode to My Father (2014)    5.0     4.6     83   \n",
              "155              Bolshoi Ballet: The Nutcracker (2014)    4.5     4.4     70   \n",
              "158                             Song of the Sea (2014)    4.5     4.3     66   \n",
              "161                                   Leviathan (2014)    4.0     3.5     64   \n",
              "196                          Merchants of Doubt (2014)    4.0     3.7     42   \n",
              "212                 Just the Way You Are (2014) (2015)    5.0     4.8     29   \n",
              "319                             Beloved Sisters (2014)    3.5     3.3      7   \n",
              "321              Six Dance Lessons in Six Weeks (2014)    3.0     3.0      7   \n",
              "345  Magician: The Astonishing Life and Work of Ors...    4.0     4.0      5   \n",
              "\n",
              "     YEAR  \n",
              "5    2014  \n",
              "9    2014  \n",
              "14   2014  \n",
              "21   2014  \n",
              "24   2014  \n",
              "25   2014  \n",
              "33   2014  \n",
              "38   2014  \n",
              "50   2014  \n",
              "73   2014  \n",
              "83   2014  \n",
              "98   2014  \n",
              "114  2014  \n",
              "119  2014  \n",
              "136  2014  \n",
              "145  2014  \n",
              "155  2014  \n",
              "158  2014  \n",
              "161  2014  \n",
              "196  2014  \n",
              "212  2014  \n",
              "319  2014  \n",
              "321  2014  \n",
              "345  2014  "
            ]
          },
          "execution_count": 17,
          "metadata": {},
          "output_type": "execute_result"
        }
      ],
      "source": [
        "fandango_df[fandango_df['YEAR']== 2014].head(30)"
      ]
    },
    {
      "cell_type": "code",
      "execution_count": 18,
      "metadata": {
        "colab": {
          "base_uri": "https://localhost:8080/",
          "height": 272
        },
        "id": "qGh_HYXrMnzC",
        "outputId": "757bf973-5bdc-434e-d95a-0fbcd303434f"
      },
      "outputs": [
        {
          "data": {
            "text/plain": [
              "YEAR\n",
              "2015    477\n",
              "2014     24\n",
              "1964      1\n",
              "2012      1\n",
              "2016      1\n",
              "Name: FILM, dtype: int64"
            ]
          },
          "execution_count": 18,
          "metadata": {},
          "output_type": "execute_result"
        }
      ],
      "source": [
        "fandango_df.groupby('YEAR')['FILM'].count().sort_values(ascending=False)"
      ]
    },
    {
      "cell_type": "markdown",
      "metadata": {
        "id": "kuVHInzxMpTJ"
      },
      "source": []
    },
    {
      "cell_type": "code",
      "execution_count": 19,
      "metadata": {
        "id": "_pD3dvUXPcfx"
      },
      "outputs": [],
      "source": [
        "fandango_groupby_year_film=fandango_df.groupby('YEAR',as_index=False)['FILM'].count().sort_values(by='FILM',ascending=False)"
      ]
    },
    {
      "cell_type": "code",
      "execution_count": 20,
      "metadata": {
        "colab": {
          "base_uri": "https://localhost:8080/",
          "height": 241
        },
        "id": "eTxbM2_RR3HM",
        "outputId": "a17af22f-7a1e-4357-a091-bf7261dc80c9"
      },
      "outputs": [
        {
          "data": {
            "text/plain": [
              "3    2015\n",
              "2    2014\n",
              "0    1964\n",
              "1    2012\n",
              "4    2016\n",
              "Name: YEAR, dtype: int64"
            ]
          },
          "execution_count": 20,
          "metadata": {},
          "output_type": "execute_result"
        }
      ],
      "source": [
        "fandango_groupby_year_film['YEAR']"
      ]
    },
    {
      "cell_type": "code",
      "execution_count": 21,
      "metadata": {
        "colab": {
          "base_uri": "https://localhost:8080/",
          "height": 489
        },
        "id": "rfxfWWGnPSV8",
        "outputId": "141d51aa-5b52-4757-eff7-5d52bc2f9ed0"
      },
      "outputs": [
        {
          "data": {
            "image/png": "[encoded data removed]",
            "text/plain": [
              "<Figure size 640x480 with 1 Axes>"
            ]
          },
          "metadata": {},
          "output_type": "display_data"
        }
      ],
      "source": [
        "sns.barplot(data=fandango_groupby_year_film,x='YEAR',y='FILM',palette=[\"#aaaaaa\",\"#aaaaaa\",\"#666666\",\"#123670\", \"#aaaaaa\"], hue='YEAR',legend=False, order=fandango_groupby_year_film['YEAR'])\n",
        "plt.title('Quantidade de filmes x Ano - Fandango')\n",
        "plt.ylabel('Quantidade de filmes')\n",
        "plt.show()"
      ]
    },
    {
      "cell_type": "markdown",
      "metadata": {
        "id": "7XHEOkRhSS4l"
      },
      "source": [
        "#### Qual os 10 filmes que tem maior numero de votos ?"
      ]
    },
    {
      "cell_type": "code",
      "execution_count": 22,
      "metadata": {
        "colab": {
          "base_uri": "https://localhost:8080/",
          "height": 363
        },
        "id": "3XDfHrxESRg7",
        "outputId": "fe6aacc0-0a26-45f2-ff55-ae38995f8bbf"
      },
      "outputs": [
        {
          "data": {
            "text/html": [
              "<div>\n",
              "<style scoped>\n",
              "    .dataframe tbody tr th:only-of-type {\n",
              "        vertical-align: middle;\n",
              "    }\n",
              "\n",
              "    .dataframe tbody tr th {\n",
              "        vertical-align: top;\n",
              "    }\n",
              "\n",
              "    .dataframe thead th {\n",
              "        text-align: right;\n",
              "    }\n",
              "</style>\n",
              "<table border=\"1\" class=\"dataframe\">\n",
              "  <thead>\n",
              "    <tr style=\"text-align: right;\">\n",
              "      <th></th>\n",
              "      <th>FILM</th>\n",
              "      <th>STARS</th>\n",
              "      <th>RATING</th>\n",
              "      <th>VOTES</th>\n",
              "      <th>YEAR</th>\n",
              "    </tr>\n",
              "  </thead>\n",
              "  <tbody>\n",
              "    <tr>\n",
              "      <th>0</th>\n",
              "      <td>Fifty Shades of Grey (2015)</td>\n",
              "      <td>4.0</td>\n",
              "      <td>3.9</td>\n",
              "      <td>34846</td>\n",
              "      <td>2015</td>\n",
              "    </tr>\n",
              "    <tr>\n",
              "      <th>1</th>\n",
              "      <td>Jurassic World (2015)</td>\n",
              "      <td>4.5</td>\n",
              "      <td>4.5</td>\n",
              "      <td>34390</td>\n",
              "      <td>2015</td>\n",
              "    </tr>\n",
              "    <tr>\n",
              "      <th>2</th>\n",
              "      <td>American Sniper (2015)</td>\n",
              "      <td>5.0</td>\n",
              "      <td>4.8</td>\n",
              "      <td>34085</td>\n",
              "      <td>2015</td>\n",
              "    </tr>\n",
              "    <tr>\n",
              "      <th>3</th>\n",
              "      <td>Furious 7 (2015)</td>\n",
              "      <td>5.0</td>\n",
              "      <td>4.8</td>\n",
              "      <td>33538</td>\n",
              "      <td>2015</td>\n",
              "    </tr>\n",
              "    <tr>\n",
              "      <th>4</th>\n",
              "      <td>Inside Out (2015)</td>\n",
              "      <td>4.5</td>\n",
              "      <td>4.5</td>\n",
              "      <td>15749</td>\n",
              "      <td>2015</td>\n",
              "    </tr>\n",
              "    <tr>\n",
              "      <th>5</th>\n",
              "      <td>The Hobbit: The Battle of the Five Armies (2014)</td>\n",
              "      <td>4.5</td>\n",
              "      <td>4.3</td>\n",
              "      <td>15337</td>\n",
              "      <td>2014</td>\n",
              "    </tr>\n",
              "    <tr>\n",
              "      <th>6</th>\n",
              "      <td>Kingsman: The Secret Service (2015)</td>\n",
              "      <td>4.5</td>\n",
              "      <td>4.2</td>\n",
              "      <td>15205</td>\n",
              "      <td>2015</td>\n",
              "    </tr>\n",
              "    <tr>\n",
              "      <th>7</th>\n",
              "      <td>Minions (2015)</td>\n",
              "      <td>4.0</td>\n",
              "      <td>4.0</td>\n",
              "      <td>14998</td>\n",
              "      <td>2015</td>\n",
              "    </tr>\n",
              "    <tr>\n",
              "      <th>8</th>\n",
              "      <td>Avengers: Age of Ultron (2015)</td>\n",
              "      <td>5.0</td>\n",
              "      <td>4.5</td>\n",
              "      <td>14846</td>\n",
              "      <td>2015</td>\n",
              "    </tr>\n",
              "    <tr>\n",
              "      <th>9</th>\n",
              "      <td>Into the Woods (2014)</td>\n",
              "      <td>3.5</td>\n",
              "      <td>3.4</td>\n",
              "      <td>13055</td>\n",
              "      <td>2014</td>\n",
              "    </tr>\n",
              "  </tbody>\n",
              "</table>\n",
              "</div>"
            ],
            "text/plain": [
              "                                               FILM  STARS  RATING  VOTES  \\\n",
              "0                       Fifty Shades of Grey (2015)    4.0     3.9  34846   \n",
              "1                             Jurassic World (2015)    4.5     4.5  34390   \n",
              "2                            American Sniper (2015)    5.0     4.8  34085   \n",
              "3                                  Furious 7 (2015)    5.0     4.8  33538   \n",
              "4                                 Inside Out (2015)    4.5     4.5  15749   \n",
              "5  The Hobbit: The Battle of the Five Armies (2014)    4.5     4.3  15337   \n",
              "6               Kingsman: The Secret Service (2015)    4.5     4.2  15205   \n",
              "7                                    Minions (2015)    4.0     4.0  14998   \n",
              "8                    Avengers: Age of Ultron (2015)    5.0     4.5  14846   \n",
              "9                             Into the Woods (2014)    3.5     3.4  13055   \n",
              "\n",
              "   YEAR  \n",
              "0  2015  \n",
              "1  2015  \n",
              "2  2015  \n",
              "3  2015  \n",
              "4  2015  \n",
              "5  2014  \n",
              "6  2015  \n",
              "7  2015  \n",
              "8  2015  \n",
              "9  2014  "
            ]
          },
          "execution_count": 22,
          "metadata": {},
          "output_type": "execute_result"
        }
      ],
      "source": [
        "fandango_df.sort_values(by='VOTES',ascending=False).head(10)"
      ]
    },
    {
      "cell_type": "code",
      "execution_count": 23,
      "metadata": {
        "colab": {
          "base_uri": "https://localhost:8080/",
          "height": 424
        },
        "id": "PPM90wrRS3no",
        "outputId": "601bb917-f189-4bd8-be9d-bd1d12146776"
      },
      "outputs": [
        {
          "data": {
            "text/html": [
              "<div>\n",
              "<style scoped>\n",
              "    .dataframe tbody tr th:only-of-type {\n",
              "        vertical-align: middle;\n",
              "    }\n",
              "\n",
              "    .dataframe tbody tr th {\n",
              "        vertical-align: top;\n",
              "    }\n",
              "\n",
              "    .dataframe thead th {\n",
              "        text-align: right;\n",
              "    }\n",
              "</style>\n",
              "<table border=\"1\" class=\"dataframe\">\n",
              "  <thead>\n",
              "    <tr style=\"text-align: right;\">\n",
              "      <th></th>\n",
              "      <th>FILM</th>\n",
              "      <th>STARS</th>\n",
              "      <th>RATING</th>\n",
              "      <th>VOTES</th>\n",
              "      <th>YEAR</th>\n",
              "    </tr>\n",
              "  </thead>\n",
              "  <tbody>\n",
              "    <tr>\n",
              "      <th>435</th>\n",
              "      <td>6 Years (2015)</td>\n",
              "      <td>0.0</td>\n",
              "      <td>0.0</td>\n",
              "      <td>0</td>\n",
              "      <td>2015</td>\n",
              "    </tr>\n",
              "    <tr>\n",
              "      <th>436</th>\n",
              "      <td>7 Minutes (2015)</td>\n",
              "      <td>0.0</td>\n",
              "      <td>0.0</td>\n",
              "      <td>0</td>\n",
              "      <td>2015</td>\n",
              "    </tr>\n",
              "    <tr>\n",
              "      <th>437</th>\n",
              "      <td>A Year in Champagne (2015)</td>\n",
              "      <td>0.0</td>\n",
              "      <td>0.0</td>\n",
              "      <td>0</td>\n",
              "      <td>2015</td>\n",
              "    </tr>\n",
              "    <tr>\n",
              "      <th>438</th>\n",
              "      <td>Balls Out (2015)</td>\n",
              "      <td>0.0</td>\n",
              "      <td>0.0</td>\n",
              "      <td>0</td>\n",
              "      <td>2015</td>\n",
              "    </tr>\n",
              "    <tr>\n",
              "      <th>439</th>\n",
              "      <td>Before I Wake (2015)</td>\n",
              "      <td>0.0</td>\n",
              "      <td>0.0</td>\n",
              "      <td>0</td>\n",
              "      <td>2015</td>\n",
              "    </tr>\n",
              "    <tr>\n",
              "      <th>...</th>\n",
              "      <td>...</td>\n",
              "      <td>...</td>\n",
              "      <td>...</td>\n",
              "      <td>...</td>\n",
              "      <td>...</td>\n",
              "    </tr>\n",
              "    <tr>\n",
              "      <th>499</th>\n",
              "      <td>Valiyavan (2015)</td>\n",
              "      <td>0.0</td>\n",
              "      <td>0.0</td>\n",
              "      <td>0</td>\n",
              "      <td>2015</td>\n",
              "    </tr>\n",
              "    <tr>\n",
              "      <th>500</th>\n",
              "      <td>WWE SummerSlam 2015 (2015)</td>\n",
              "      <td>0.0</td>\n",
              "      <td>0.0</td>\n",
              "      <td>0</td>\n",
              "      <td>2015</td>\n",
              "    </tr>\n",
              "    <tr>\n",
              "      <th>501</th>\n",
              "      <td>Yagavarayinum Naa Kaakka (2015)</td>\n",
              "      <td>0.0</td>\n",
              "      <td>0.0</td>\n",
              "      <td>0</td>\n",
              "      <td>2015</td>\n",
              "    </tr>\n",
              "    <tr>\n",
              "      <th>502</th>\n",
              "      <td>Yesterday, Today and Tomorrow (1964)</td>\n",
              "      <td>0.0</td>\n",
              "      <td>0.0</td>\n",
              "      <td>0</td>\n",
              "      <td>1964</td>\n",
              "    </tr>\n",
              "    <tr>\n",
              "      <th>503</th>\n",
              "      <td>Zarafa (2012)</td>\n",
              "      <td>0.0</td>\n",
              "      <td>0.0</td>\n",
              "      <td>0</td>\n",
              "      <td>2012</td>\n",
              "    </tr>\n",
              "  </tbody>\n",
              "</table>\n",
              "<p>69 rows × 5 columns</p>\n",
              "</div>"
            ],
            "text/plain": [
              "                                     FILM  STARS  RATING  VOTES  YEAR\n",
              "435                        6 Years (2015)    0.0     0.0      0  2015\n",
              "436                      7 Minutes (2015)    0.0     0.0      0  2015\n",
              "437            A Year in Champagne (2015)    0.0     0.0      0  2015\n",
              "438                      Balls Out (2015)    0.0     0.0      0  2015\n",
              "439                  Before I Wake (2015)    0.0     0.0      0  2015\n",
              "..                                    ...    ...     ...    ...   ...\n",
              "499                      Valiyavan (2015)    0.0     0.0      0  2015\n",
              "500            WWE SummerSlam 2015 (2015)    0.0     0.0      0  2015\n",
              "501       Yagavarayinum Naa Kaakka (2015)    0.0     0.0      0  2015\n",
              "502  Yesterday, Today and Tomorrow (1964)    0.0     0.0      0  1964\n",
              "503                         Zarafa (2012)    0.0     0.0      0  2012\n",
              "\n",
              "[69 rows x 5 columns]"
            ]
          },
          "execution_count": 23,
          "metadata": {},
          "output_type": "execute_result"
        }
      ],
      "source": [
        "fandango_df[fandango_df['VOTES']==0]"
      ]
    },
    {
      "cell_type": "code",
      "execution_count": 24,
      "metadata": {
        "id": "Wi7glytMTUvN"
      },
      "outputs": [],
      "source": [
        "index_remover = fandango_df[fandango_df['VOTES']==0].index"
      ]
    },
    {
      "cell_type": "code",
      "execution_count": 25,
      "metadata": {
        "colab": {
          "base_uri": "https://localhost:8080/"
        },
        "id": "X_LdjKjDTaH9",
        "outputId": "189c1080-d56b-4af6-ee2d-fa1012275446"
      },
      "outputs": [
        {
          "data": {
            "text/plain": [
              "Index([435, 436, 437, 438, 439, 440, 441, 442, 443, 444, 445, 446, 447, 448,\n",
              "       449, 450, 451, 452, 453, 454, 455, 456, 457, 458, 459, 460, 461, 462,\n",
              "       463, 464, 465, 466, 467, 468, 469, 470, 471, 472, 473, 474, 475, 476,\n",
              "       477, 478, 479, 480, 481, 482, 483, 484, 485, 486, 487, 488, 489, 490,\n",
              "       491, 492, 493, 494, 495, 496, 497, 498, 499, 500, 501, 502, 503],\n",
              "      dtype='int64')"
            ]
          },
          "execution_count": 25,
          "metadata": {},
          "output_type": "execute_result"
        }
      ],
      "source": [
        "index_remover"
      ]
    },
    {
      "cell_type": "code",
      "execution_count": 26,
      "metadata": {
        "id": "qOPcqdo9TJSk"
      },
      "outputs": [],
      "source": [
        "new_fandango_df = fandango_df.drop(index_remover,axis=0)"
      ]
    },
    {
      "cell_type": "code",
      "execution_count": 27,
      "metadata": {
        "colab": {
          "base_uri": "https://localhost:8080/"
        },
        "id": "ohb-r-H0Tl7s",
        "outputId": "a8ecdec3-0b33-4d8a-cc9c-90df19445c43"
      },
      "outputs": [
        {
          "name": "stdout",
          "output_type": "stream",
          "text": [
            "<class 'pandas.core.frame.DataFrame'>\n",
            "RangeIndex: 435 entries, 0 to 434\n",
            "Data columns (total 5 columns):\n",
            " #   Column  Non-Null Count  Dtype  \n",
            "---  ------  --------------  -----  \n",
            " 0   FILM    435 non-null    object \n",
            " 1   STARS   435 non-null    float64\n",
            " 2   RATING  435 non-null    float64\n",
            " 3   VOTES   435 non-null    int64  \n",
            " 4   YEAR    435 non-null    int64  \n",
            "dtypes: float64(2), int64(2), object(1)\n",
            "memory usage: 17.1+ KB\n"
          ]
        }
      ],
      "source": [
        "new_fandango_df.info()"
      ]
    },
    {
      "cell_type": "code",
      "execution_count": 28,
      "metadata": {
        "colab": {
          "base_uri": "https://localhost:8080/",
          "height": 482
        },
        "id": "s1Dckyj8UI-3",
        "outputId": "2f463188-76ae-4102-a749-36c317ff546f"
      },
      "outputs": [
        {
          "data": {
            "image/png": "[encoded data removed]",
            "text/plain": [
              "<Figure size 1000x500 with 1 Axes>"
            ]
          },
          "metadata": {},
          "output_type": "display_data"
        }
      ],
      "source": [
        "plt.figure(figsize=(10,5))\n",
        "sns.kdeplot(data=new_fandango_df,x='RATING',fill=True)\n",
        "sns.kdeplot(data=new_fandango_df,x='STARS',fill=True,alpha=0.2)\n",
        "\n",
        "plt.xlim(right=5)\n",
        "plt.legend(['True Rating','Stars Displayed'])\n",
        "plt.show()"
      ]
    },
    {
      "cell_type": "code",
      "execution_count": 29,
      "metadata": {},
      "outputs": [
        {
          "data": {
            "text/html": [
              "<div>\n",
              "<style scoped>\n",
              "    .dataframe tbody tr th:only-of-type {\n",
              "        vertical-align: middle;\n",
              "    }\n",
              "\n",
              "    .dataframe tbody tr th {\n",
              "        vertical-align: top;\n",
              "    }\n",
              "\n",
              "    .dataframe thead th {\n",
              "        text-align: right;\n",
              "    }\n",
              "</style>\n",
              "<table border=\"1\" class=\"dataframe\">\n",
              "  <thead>\n",
              "    <tr style=\"text-align: right;\">\n",
              "      <th></th>\n",
              "      <th>FILM</th>\n",
              "      <th>STARS</th>\n",
              "      <th>RATING</th>\n",
              "      <th>VOTES</th>\n",
              "      <th>YEAR</th>\n",
              "      <th>STARS_DIFF</th>\n",
              "    </tr>\n",
              "  </thead>\n",
              "  <tbody>\n",
              "    <tr>\n",
              "      <th>0</th>\n",
              "      <td>Fifty Shades of Grey (2015)</td>\n",
              "      <td>4.0</td>\n",
              "      <td>3.9</td>\n",
              "      <td>34846</td>\n",
              "      <td>2015</td>\n",
              "      <td>0.1</td>\n",
              "    </tr>\n",
              "    <tr>\n",
              "      <th>1</th>\n",
              "      <td>Jurassic World (2015)</td>\n",
              "      <td>4.5</td>\n",
              "      <td>4.5</td>\n",
              "      <td>34390</td>\n",
              "      <td>2015</td>\n",
              "      <td>0.0</td>\n",
              "    </tr>\n",
              "    <tr>\n",
              "      <th>2</th>\n",
              "      <td>American Sniper (2015)</td>\n",
              "      <td>5.0</td>\n",
              "      <td>4.8</td>\n",
              "      <td>34085</td>\n",
              "      <td>2015</td>\n",
              "      <td>0.2</td>\n",
              "    </tr>\n",
              "    <tr>\n",
              "      <th>3</th>\n",
              "      <td>Furious 7 (2015)</td>\n",
              "      <td>5.0</td>\n",
              "      <td>4.8</td>\n",
              "      <td>33538</td>\n",
              "      <td>2015</td>\n",
              "      <td>0.2</td>\n",
              "    </tr>\n",
              "    <tr>\n",
              "      <th>4</th>\n",
              "      <td>Inside Out (2015)</td>\n",
              "      <td>4.5</td>\n",
              "      <td>4.5</td>\n",
              "      <td>15749</td>\n",
              "      <td>2015</td>\n",
              "      <td>0.0</td>\n",
              "    </tr>\n",
              "  </tbody>\n",
              "</table>\n",
              "</div>"
            ],
            "text/plain": [
              "                          FILM  STARS  RATING  VOTES  YEAR  STARS_DIFF\n",
              "0  Fifty Shades of Grey (2015)    4.0     3.9  34846  2015         0.1\n",
              "1        Jurassic World (2015)    4.5     4.5  34390  2015         0.0\n",
              "2       American Sniper (2015)    5.0     4.8  34085  2015         0.2\n",
              "3             Furious 7 (2015)    5.0     4.8  33538  2015         0.2\n",
              "4            Inside Out (2015)    4.5     4.5  15749  2015         0.0"
            ]
          },
          "execution_count": 29,
          "metadata": {},
          "output_type": "execute_result"
        }
      ],
      "source": [
        "new_fandango_df['STARS_DIFF']  = np.round(new_fandango_df['STARS'] - new_fandango_df['RATING'],1)\n",
        "new_fandango_df.head()"
      ]
    },
    {
      "cell_type": "code",
      "execution_count": 30,
      "metadata": {},
      "outputs": [
        {
          "data": {
            "image/png": "[encoded data removed]",
            "text/plain": [
              "<Figure size 640x480 with 1 Axes>"
            ]
          },
          "metadata": {},
          "output_type": "display_data"
        }
      ],
      "source": [
        "sns.countplot(data=new_fandango_df,x='STARS_DIFF',hue='STARS_DIFF',legend=False)\n",
        "plt.show()"
      ]
    },
    {
      "cell_type": "code",
      "execution_count": 31,
      "metadata": {},
      "outputs": [
        {
          "data": {
            "text/html": [
              "<div>\n",
              "<style scoped>\n",
              "    .dataframe tbody tr th:only-of-type {\n",
              "        vertical-align: middle;\n",
              "    }\n",
              "\n",
              "    .dataframe tbody tr th {\n",
              "        vertical-align: top;\n",
              "    }\n",
              "\n",
              "    .dataframe thead th {\n",
              "        text-align: right;\n",
              "    }\n",
              "</style>\n",
              "<table border=\"1\" class=\"dataframe\">\n",
              "  <thead>\n",
              "    <tr style=\"text-align: right;\">\n",
              "      <th></th>\n",
              "      <th>FILM</th>\n",
              "      <th>STARS</th>\n",
              "      <th>RATING</th>\n",
              "      <th>VOTES</th>\n",
              "      <th>YEAR</th>\n",
              "      <th>STARS_DIFF</th>\n",
              "    </tr>\n",
              "  </thead>\n",
              "  <tbody>\n",
              "    <tr>\n",
              "      <th>381</th>\n",
              "      <td>Turbo Kid (2015)</td>\n",
              "      <td>5.0</td>\n",
              "      <td>4.0</td>\n",
              "      <td>2</td>\n",
              "      <td>2015</td>\n",
              "      <td>1.0</td>\n",
              "    </tr>\n",
              "  </tbody>\n",
              "</table>\n",
              "</div>"
            ],
            "text/plain": [
              "                 FILM  STARS  RATING  VOTES  YEAR  STARS_DIFF\n",
              "381  Turbo Kid (2015)    5.0     4.0      2  2015         1.0"
            ]
          },
          "execution_count": 31,
          "metadata": {},
          "output_type": "execute_result"
        }
      ],
      "source": [
        "new_fandango_df[new_fandango_df['STARS_DIFF']==1.0]"
      ]
    },
    {
      "cell_type": "code",
      "execution_count": 32,
      "metadata": {
        "colab": {
          "base_uri": "https://localhost:8080/",
          "height": 206
        },
        "id": "MvGVCRVZZJU6",
        "outputId": "b2c15823-eb85-49f4-f8f2-3b4d5aca7ec6"
      },
      "outputs": [
        {
          "data": {
            "text/html": [
              "<div>\n",
              "<style scoped>\n",
              "    .dataframe tbody tr th:only-of-type {\n",
              "        vertical-align: middle;\n",
              "    }\n",
              "\n",
              "    .dataframe tbody tr th {\n",
              "        vertical-align: top;\n",
              "    }\n",
              "\n",
              "    .dataframe thead th {\n",
              "        text-align: right;\n",
              "    }\n",
              "</style>\n",
              "<table border=\"1\" class=\"dataframe\">\n",
              "  <thead>\n",
              "    <tr style=\"text-align: right;\">\n",
              "      <th></th>\n",
              "      <th>FILM</th>\n",
              "      <th>RottenTomatoes</th>\n",
              "      <th>RottenTomatoes_User</th>\n",
              "      <th>Metacritic</th>\n",
              "      <th>Metacritic_User</th>\n",
              "      <th>IMDB</th>\n",
              "      <th>Metacritic_user_vote_count</th>\n",
              "      <th>IMDB_user_vote_count</th>\n",
              "    </tr>\n",
              "  </thead>\n",
              "  <tbody>\n",
              "    <tr>\n",
              "      <th>0</th>\n",
              "      <td>Avengers: Age of Ultron (2015)</td>\n",
              "      <td>74</td>\n",
              "      <td>86</td>\n",
              "      <td>66</td>\n",
              "      <td>7.1</td>\n",
              "      <td>7.8</td>\n",
              "      <td>1330</td>\n",
              "      <td>271107</td>\n",
              "    </tr>\n",
              "    <tr>\n",
              "      <th>1</th>\n",
              "      <td>Cinderella (2015)</td>\n",
              "      <td>85</td>\n",
              "      <td>80</td>\n",
              "      <td>67</td>\n",
              "      <td>7.5</td>\n",
              "      <td>7.1</td>\n",
              "      <td>249</td>\n",
              "      <td>65709</td>\n",
              "    </tr>\n",
              "    <tr>\n",
              "      <th>2</th>\n",
              "      <td>Ant-Man (2015)</td>\n",
              "      <td>80</td>\n",
              "      <td>90</td>\n",
              "      <td>64</td>\n",
              "      <td>8.1</td>\n",
              "      <td>7.8</td>\n",
              "      <td>627</td>\n",
              "      <td>103660</td>\n",
              "    </tr>\n",
              "    <tr>\n",
              "      <th>3</th>\n",
              "      <td>Do You Believe? (2015)</td>\n",
              "      <td>18</td>\n",
              "      <td>84</td>\n",
              "      <td>22</td>\n",
              "      <td>4.7</td>\n",
              "      <td>5.4</td>\n",
              "      <td>31</td>\n",
              "      <td>3136</td>\n",
              "    </tr>\n",
              "    <tr>\n",
              "      <th>4</th>\n",
              "      <td>Hot Tub Time Machine 2 (2015)</td>\n",
              "      <td>14</td>\n",
              "      <td>28</td>\n",
              "      <td>29</td>\n",
              "      <td>3.4</td>\n",
              "      <td>5.1</td>\n",
              "      <td>88</td>\n",
              "      <td>19560</td>\n",
              "    </tr>\n",
              "  </tbody>\n",
              "</table>\n",
              "</div>"
            ],
            "text/plain": [
              "                             FILM  RottenTomatoes  RottenTomatoes_User  \\\n",
              "0  Avengers: Age of Ultron (2015)              74                   86   \n",
              "1               Cinderella (2015)              85                   80   \n",
              "2                  Ant-Man (2015)              80                   90   \n",
              "3          Do You Believe? (2015)              18                   84   \n",
              "4   Hot Tub Time Machine 2 (2015)              14                   28   \n",
              "\n",
              "   Metacritic  Metacritic_User  IMDB  Metacritic_user_vote_count  \\\n",
              "0          66              7.1   7.8                        1330   \n",
              "1          67              7.5   7.1                         249   \n",
              "2          64              8.1   7.8                         627   \n",
              "3          22              4.7   5.4                          31   \n",
              "4          29              3.4   5.1                          88   \n",
              "\n",
              "   IMDB_user_vote_count  \n",
              "0                271107  \n",
              "1                 65709  \n",
              "2                103660  \n",
              "3                  3136  \n",
              "4                 19560  "
            ]
          },
          "execution_count": 32,
          "metadata": {},
          "output_type": "execute_result"
        }
      ],
      "source": [
        "all_sites_df.head()"
      ]
    },
    {
      "cell_type": "code",
      "execution_count": 33,
      "metadata": {
        "id": "fBKdDhjN2lnV"
      },
      "outputs": [
        {
          "name": "stdout",
          "output_type": "stream",
          "text": [
            "<class 'pandas.core.frame.DataFrame'>\n",
            "RangeIndex: 146 entries, 0 to 145\n",
            "Data columns (total 8 columns):\n",
            " #   Column                      Non-Null Count  Dtype  \n",
            "---  ------                      --------------  -----  \n",
            " 0   FILM                        146 non-null    object \n",
            " 1   RottenTomatoes              146 non-null    int64  \n",
            " 2   RottenTomatoes_User         146 non-null    int64  \n",
            " 3   Metacritic                  146 non-null    int64  \n",
            " 4   Metacritic_User             146 non-null    float64\n",
            " 5   IMDB                        146 non-null    float64\n",
            " 6   Metacritic_user_vote_count  146 non-null    int64  \n",
            " 7   IMDB_user_vote_count        146 non-null    int64  \n",
            "dtypes: float64(2), int64(5), object(1)\n",
            "memory usage: 9.3+ KB\n"
          ]
        }
      ],
      "source": [
        "all_sites_df.info()"
      ]
    },
    {
      "cell_type": "code",
      "execution_count": 34,
      "metadata": {},
      "outputs": [
        {
          "data": {
            "text/html": [
              "<div>\n",
              "<style scoped>\n",
              "    .dataframe tbody tr th:only-of-type {\n",
              "        vertical-align: middle;\n",
              "    }\n",
              "\n",
              "    .dataframe tbody tr th {\n",
              "        vertical-align: top;\n",
              "    }\n",
              "\n",
              "    .dataframe thead th {\n",
              "        text-align: right;\n",
              "    }\n",
              "</style>\n",
              "<table border=\"1\" class=\"dataframe\">\n",
              "  <thead>\n",
              "    <tr style=\"text-align: right;\">\n",
              "      <th></th>\n",
              "      <th>count</th>\n",
              "      <th>mean</th>\n",
              "      <th>std</th>\n",
              "      <th>min</th>\n",
              "      <th>25%</th>\n",
              "      <th>50%</th>\n",
              "      <th>75%</th>\n",
              "      <th>max</th>\n",
              "    </tr>\n",
              "  </thead>\n",
              "  <tbody>\n",
              "    <tr>\n",
              "      <th>RottenTomatoes</th>\n",
              "      <td>146.0</td>\n",
              "      <td>60.849315</td>\n",
              "      <td>30.168799</td>\n",
              "      <td>5.0</td>\n",
              "      <td>31.25</td>\n",
              "      <td>63.50</td>\n",
              "      <td>89.00</td>\n",
              "      <td>100.0</td>\n",
              "    </tr>\n",
              "    <tr>\n",
              "      <th>RottenTomatoes_User</th>\n",
              "      <td>146.0</td>\n",
              "      <td>63.876712</td>\n",
              "      <td>20.024430</td>\n",
              "      <td>20.0</td>\n",
              "      <td>50.00</td>\n",
              "      <td>66.50</td>\n",
              "      <td>81.00</td>\n",
              "      <td>94.0</td>\n",
              "    </tr>\n",
              "    <tr>\n",
              "      <th>Metacritic</th>\n",
              "      <td>146.0</td>\n",
              "      <td>58.808219</td>\n",
              "      <td>19.517389</td>\n",
              "      <td>13.0</td>\n",
              "      <td>43.50</td>\n",
              "      <td>59.00</td>\n",
              "      <td>75.00</td>\n",
              "      <td>94.0</td>\n",
              "    </tr>\n",
              "    <tr>\n",
              "      <th>Metacritic_User</th>\n",
              "      <td>146.0</td>\n",
              "      <td>6.519178</td>\n",
              "      <td>1.510712</td>\n",
              "      <td>2.4</td>\n",
              "      <td>5.70</td>\n",
              "      <td>6.85</td>\n",
              "      <td>7.50</td>\n",
              "      <td>9.6</td>\n",
              "    </tr>\n",
              "    <tr>\n",
              "      <th>IMDB</th>\n",
              "      <td>146.0</td>\n",
              "      <td>6.736986</td>\n",
              "      <td>0.958736</td>\n",
              "      <td>4.0</td>\n",
              "      <td>6.30</td>\n",
              "      <td>6.90</td>\n",
              "      <td>7.40</td>\n",
              "      <td>8.6</td>\n",
              "    </tr>\n",
              "    <tr>\n",
              "      <th>Metacritic_user_vote_count</th>\n",
              "      <td>146.0</td>\n",
              "      <td>185.705479</td>\n",
              "      <td>316.606515</td>\n",
              "      <td>4.0</td>\n",
              "      <td>33.25</td>\n",
              "      <td>72.50</td>\n",
              "      <td>168.50</td>\n",
              "      <td>2375.0</td>\n",
              "    </tr>\n",
              "    <tr>\n",
              "      <th>IMDB_user_vote_count</th>\n",
              "      <td>146.0</td>\n",
              "      <td>42846.205479</td>\n",
              "      <td>67406.509171</td>\n",
              "      <td>243.0</td>\n",
              "      <td>5627.00</td>\n",
              "      <td>19103.00</td>\n",
              "      <td>45185.75</td>\n",
              "      <td>334164.0</td>\n",
              "    </tr>\n",
              "  </tbody>\n",
              "</table>\n",
              "</div>"
            ],
            "text/plain": [
              "                            count          mean           std    min      25%  \\\n",
              "RottenTomatoes              146.0     60.849315     30.168799    5.0    31.25   \n",
              "RottenTomatoes_User         146.0     63.876712     20.024430   20.0    50.00   \n",
              "Metacritic                  146.0     58.808219     19.517389   13.0    43.50   \n",
              "Metacritic_User             146.0      6.519178      1.510712    2.4     5.70   \n",
              "IMDB                        146.0      6.736986      0.958736    4.0     6.30   \n",
              "Metacritic_user_vote_count  146.0    185.705479    316.606515    4.0    33.25   \n",
              "IMDB_user_vote_count        146.0  42846.205479  67406.509171  243.0  5627.00   \n",
              "\n",
              "                                 50%       75%       max  \n",
              "RottenTomatoes                 63.50     89.00     100.0  \n",
              "RottenTomatoes_User            66.50     81.00      94.0  \n",
              "Metacritic                     59.00     75.00      94.0  \n",
              "Metacritic_User                 6.85      7.50       9.6  \n",
              "IMDB                            6.90      7.40       8.6  \n",
              "Metacritic_user_vote_count     72.50    168.50    2375.0  \n",
              "IMDB_user_vote_count        19103.00  45185.75  334164.0  "
            ]
          },
          "execution_count": 34,
          "metadata": {},
          "output_type": "execute_result"
        }
      ],
      "source": [
        "all_sites_df.describe().transpose()"
      ]
    },
    {
      "cell_type": "code",
      "execution_count": 35,
      "metadata": {},
      "outputs": [
        {
          "data": {
            "text/plain": [
              "np.float64(0.781439628201966)"
            ]
          },
          "execution_count": 35,
          "metadata": {},
          "output_type": "execute_result"
        }
      ],
      "source": [
        "all_sites_df['RottenTomatoes'].corr(all_sites_df['RottenTomatoes_User'])"
      ]
    },
    {
      "cell_type": "code",
      "execution_count": 36,
      "metadata": {},
      "outputs": [
        {
          "data": {
            "image/png": "[encoded data removed]",
            "text/plain": [
              "<Figure size 640x480 with 1 Axes>"
            ]
          },
          "metadata": {},
          "output_type": "display_data"
        }
      ],
      "source": [
        "sns.scatterplot(data=all_sites_df,x='RottenTomatoes',y='RottenTomatoes_User')\n",
        "plt.show()"
      ]
    },
    {
      "cell_type": "markdown",
      "metadata": {},
      "source": [
        "#### No geral, parece que quando os usuários gostam do filme os críticos também gostam"
      ]
    },
    {
      "cell_type": "markdown",
      "metadata": {},
      "source": [
        "valores perto de zero significa que existe um consenso entre críticos e público comum<br>\n",
        "valores positivos significa que os críticos avaliaram mais alto que o público comum<br>\n",
        "valores negativos significa que o público comum avaliou mais alto que a crítica"
      ]
    },
    {
      "cell_type": "code",
      "execution_count": 37,
      "metadata": {},
      "outputs": [],
      "source": [
        "all_sites_df['Rotten_Diff'] = all_sites_df['RottenTomatoes'] - all_sites_df['RottenTomatoes_User']"
      ]
    },
    {
      "cell_type": "code",
      "execution_count": 38,
      "metadata": {},
      "outputs": [
        {
          "data": {
            "text/plain": [
              "count    146.000000\n",
              "mean      -3.027397\n",
              "std       19.156684\n",
              "min      -66.000000\n",
              "25%      -14.000000\n",
              "50%        0.000000\n",
              "75%       10.750000\n",
              "max       42.000000\n",
              "Name: Rotten_Diff, dtype: float64"
            ]
          },
          "execution_count": 38,
          "metadata": {},
          "output_type": "execute_result"
        }
      ],
      "source": [
        "all_sites_df['Rotten_Diff'].describe()"
      ]
    },
    {
      "cell_type": "code",
      "execution_count": 39,
      "metadata": {},
      "outputs": [
        {
          "data": {
            "text/plain": [
              "np.float64(15.095890410958905)"
            ]
          },
          "execution_count": 39,
          "metadata": {},
          "output_type": "execute_result"
        }
      ],
      "source": [
        "rotten_diff_mean = np.mean(np.abs(all_sites_df['Rotten_Diff']))\n",
        "rotten_diff_mean"
      ]
    },
    {
      "cell_type": "code",
      "execution_count": 40,
      "metadata": {},
      "outputs": [
        {
          "data": {
            "image/png": "[encoded data removed]",
            "text/plain": [
              "<Figure size 1000x400 with 1 Axes>"
            ]
          },
          "metadata": {},
          "output_type": "display_data"
        }
      ],
      "source": [
        "plt.figure(figsize=(10,4))\n",
        "sns.histplot(data=all_sites_df,x='Rotten_Diff',bins=20,kde=True)\n",
        "plt.title(\"RT Critics Score minus RT User Score\")\n",
        "plt.show()"
      ]
    },
    {
      "cell_type": "code",
      "execution_count": 41,
      "metadata": {},
      "outputs": [
        {
          "data": {
            "text/plain": [
              "(38, 9)"
            ]
          },
          "execution_count": 41,
          "metadata": {},
          "output_type": "execute_result"
        }
      ],
      "source": [
        "all_sites_df[(all_sites_df['Rotten_Diff'] < 11) & (all_sites_df['Rotten_Diff'] >= 0) ].shape"
      ]
    },
    {
      "cell_type": "code",
      "execution_count": 42,
      "metadata": {},
      "outputs": [],
      "source": [
        "all_sites_abs_diff=all_sites_df.copy()\n",
        "all_sites_abs_diff['Rotten_Diff'] = np.abs(all_sites_abs_diff['Rotten_Diff'])"
      ]
    },
    {
      "cell_type": "code",
      "execution_count": 50,
      "metadata": {},
      "outputs": [
        {
          "data": {
            "image/png": "[encoded data removed]",
            "text/plain": [
              "<Figure size 1000x400 with 1 Axes>"
            ]
          },
          "metadata": {},
          "output_type": "display_data"
        }
      ],
      "source": [
        "plt.figure(figsize=(10,4))\n",
        "sns.histplot(data=all_sites_abs_diff,x='Rotten_Diff',kde=True,bins=30)\n",
        "plt.title('Abs Difference between RT Critics Score and RT User Score')\n",
        "plt.show()"
      ]
    },
    {
      "cell_type": "markdown",
      "metadata": {},
      "source": [
        "#### Qual os top 5 filmes que os usuários avaliaram mais alto que os críticos"
      ]
    },
    {
      "cell_type": "code",
      "execution_count": 52,
      "metadata": {},
      "outputs": [
        {
          "data": {
            "text/html": [
              "<div>\n",
              "<style scoped>\n",
              "    .dataframe tbody tr th:only-of-type {\n",
              "        vertical-align: middle;\n",
              "    }\n",
              "\n",
              "    .dataframe tbody tr th {\n",
              "        vertical-align: top;\n",
              "    }\n",
              "\n",
              "    .dataframe thead th {\n",
              "        text-align: right;\n",
              "    }\n",
              "</style>\n",
              "<table border=\"1\" class=\"dataframe\">\n",
              "  <thead>\n",
              "    <tr style=\"text-align: right;\">\n",
              "      <th></th>\n",
              "      <th>FILM</th>\n",
              "      <th>Rotten_Diff</th>\n",
              "    </tr>\n",
              "  </thead>\n",
              "  <tbody>\n",
              "    <tr>\n",
              "      <th>3</th>\n",
              "      <td>Do You Believe? (2015)</td>\n",
              "      <td>-66</td>\n",
              "    </tr>\n",
              "    <tr>\n",
              "      <th>85</th>\n",
              "      <td>Little Boy (2015)</td>\n",
              "      <td>-61</td>\n",
              "    </tr>\n",
              "    <tr>\n",
              "      <th>105</th>\n",
              "      <td>Hitman: Agent 47 (2015)</td>\n",
              "      <td>-42</td>\n",
              "    </tr>\n",
              "    <tr>\n",
              "      <th>134</th>\n",
              "      <td>The Longest Ride (2015)</td>\n",
              "      <td>-42</td>\n",
              "    </tr>\n",
              "    <tr>\n",
              "      <th>125</th>\n",
              "      <td>The Wedding Ringer (2015)</td>\n",
              "      <td>-39</td>\n",
              "    </tr>\n",
              "  </tbody>\n",
              "</table>\n",
              "</div>"
            ],
            "text/plain": [
              "                          FILM  Rotten_Diff\n",
              "3       Do You Believe? (2015)          -66\n",
              "85           Little Boy (2015)          -61\n",
              "105    Hitman: Agent 47 (2015)          -42\n",
              "134    The Longest Ride (2015)          -42\n",
              "125  The Wedding Ringer (2015)          -39"
            ]
          },
          "execution_count": 52,
          "metadata": {},
          "output_type": "execute_result"
        }
      ],
      "source": [
        "all_sites_df.sort_values(by='Rotten_Diff',ascending=True)[['FILM','Rotten_Diff']].head()"
      ]
    },
    {
      "cell_type": "markdown",
      "metadata": {},
      "source": [
        "#### Qual os top 5 filmes que os críticos avaliaram mais alto que os usuários"
      ]
    },
    {
      "cell_type": "code",
      "execution_count": 53,
      "metadata": {},
      "outputs": [
        {
          "data": {
            "text/html": [
              "<div>\n",
              "<style scoped>\n",
              "    .dataframe tbody tr th:only-of-type {\n",
              "        vertical-align: middle;\n",
              "    }\n",
              "\n",
              "    .dataframe tbody tr th {\n",
              "        vertical-align: top;\n",
              "    }\n",
              "\n",
              "    .dataframe thead th {\n",
              "        text-align: right;\n",
              "    }\n",
              "</style>\n",
              "<table border=\"1\" class=\"dataframe\">\n",
              "  <thead>\n",
              "    <tr style=\"text-align: right;\">\n",
              "      <th></th>\n",
              "      <th>FILM</th>\n",
              "      <th>Rotten_Diff</th>\n",
              "    </tr>\n",
              "  </thead>\n",
              "  <tbody>\n",
              "    <tr>\n",
              "      <th>69</th>\n",
              "      <td>Mr. Turner (2014)</td>\n",
              "      <td>42</td>\n",
              "    </tr>\n",
              "    <tr>\n",
              "      <th>112</th>\n",
              "      <td>It Follows (2015)</td>\n",
              "      <td>31</td>\n",
              "    </tr>\n",
              "    <tr>\n",
              "      <th>115</th>\n",
              "      <td>While We're Young (2015)</td>\n",
              "      <td>31</td>\n",
              "    </tr>\n",
              "    <tr>\n",
              "      <th>40</th>\n",
              "      <td>I'll See You In My Dreams (2015)</td>\n",
              "      <td>24</td>\n",
              "    </tr>\n",
              "    <tr>\n",
              "      <th>145</th>\n",
              "      <td>Kumiko, The Treasure Hunter (2015)</td>\n",
              "      <td>24</td>\n",
              "    </tr>\n",
              "  </tbody>\n",
              "</table>\n",
              "</div>"
            ],
            "text/plain": [
              "                                   FILM  Rotten_Diff\n",
              "69                    Mr. Turner (2014)           42\n",
              "112                   It Follows (2015)           31\n",
              "115            While We're Young (2015)           31\n",
              "40     I'll See You In My Dreams (2015)           24\n",
              "145  Kumiko, The Treasure Hunter (2015)           24"
            ]
          },
          "execution_count": 53,
          "metadata": {},
          "output_type": "execute_result"
        }
      ],
      "source": [
        "all_sites_df.sort_values(by='Rotten_Diff',ascending=False)[['FILM','Rotten_Diff']].head()"
      ]
    }
  ],
  "metadata": {
    "colab": {
      "authorship_tag": "ABX9TyMBXZ6AGeUi4DRc/TPQNCqb",
      "include_colab_link": true,
      "mount_file_id": "1X8oRNmpFkTL7eE9eq6yoFaOqFeG-z0v3",
      "provenance": []
    },
    "kernelspec": {
      "display_name": "Python (venv)",
      "language": "python",
      "name": "venv"
    },
    "language_info": {
      "codemirror_mode": {
        "name": "ipython",
        "version": 3
      },
      "file_extension": ".py",
      "mimetype": "text/x-python",
      "name": "python",
      "nbconvert_exporter": "python",
      "pygments_lexer": "ipython3",
      "version": "3.12.4"
    }
  },
  "nbformat": 4,
  "nbformat_minor": 0
}
